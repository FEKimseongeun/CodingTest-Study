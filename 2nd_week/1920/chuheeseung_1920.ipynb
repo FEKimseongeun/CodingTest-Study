{
 "cells": [
  {
   "cell_type": "code",
   "execution_count": 2,
   "id": "7c910c88",
   "metadata": {},
   "outputs": [
    {
     "name": "stdout",
     "output_type": "stream",
     "text": [
      "5\n",
      "4 1 5 2 3\n",
      "5\n",
      "1 3 7 9 5\n"
     ]
    }
   ],
   "source": [
    "n = int(input())\n",
    "n_list = list(map(int, input().split()))\n",
    "sorted_list = sorted(n_list)\n",
    "\n",
    "m = int(input())\n",
    "m_list = list(map(int, input().split()))"
   ]
  },
  {
   "cell_type": "code",
   "execution_count": 3,
   "id": "ce30b71a",
   "metadata": {},
   "outputs": [],
   "source": [
    "def binary_search(element, some_list, start = 0, end = None): # 이분탐색하는 함수\n",
    "    if end == None:\n",
    "        end = len(some_list) - 1\n",
    "    if start > end: # 리스트 계속 돌다가 start인덱스가 end인덱스보다 커져 버리면 없다는 의미\n",
    "        return 0\n",
    "    \n",
    "    mid = (start + end) // 2\n",
    "    \n",
    "    # element가 some_list에 들어있는지 반으로 나눠서 확인\n",
    "    if element == some_list[mid]: \n",
    "        return 1\n",
    "    elif element < some_list[mid]: #중앙 인덱스를 찾아서 이곳보다 작은 곳에 위치하는 경우\n",
    "        end = mid - 1\n",
    "    elif element > some_list[mid]: #중앙 인덱스를 찾아서 이곳보다 큰 곳에 위치하는 경우\n",
    "        start = mid + 1\n",
    "    \n",
    "    return binary_search(element, some_list, start, end)"
   ]
  },
  {
   "cell_type": "code",
   "execution_count": 4,
   "id": "08ba0eec",
   "metadata": {},
   "outputs": [
    {
     "name": "stdout",
     "output_type": "stream",
     "text": [
      "1\n",
      "1\n",
      "0\n",
      "0\n",
      "1\n"
     ]
    }
   ],
   "source": [
    "for i in range(len(m_list)):\n",
    "    print(binary_search(m_list[i], sorted_list))"
   ]
  }
 ],
 "metadata": {
  "kernelspec": {
   "display_name": "Python 3 (ipykernel)",
   "language": "python",
   "name": "python3"
  },
  "language_info": {
   "codemirror_mode": {
    "name": "ipython",
    "version": 3
   },
   "file_extension": ".py",
   "mimetype": "text/x-python",
   "name": "python",
   "nbconvert_exporter": "python",
   "pygments_lexer": "ipython3",
   "version": "3.8.10"
  }
 },
 "nbformat": 4,
 "nbformat_minor": 5
}
