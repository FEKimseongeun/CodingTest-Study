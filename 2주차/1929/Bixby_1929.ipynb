{
 "cells": [
  {
   "cell_type": "code",
   "execution_count": 82,
   "id": "e0b4e79b",
   "metadata": {
    "scrolled": false
   },
   "outputs": [
    {
     "name": "stdout",
     "output_type": "stream",
     "text": [
      "3 16\n",
      "3\n",
      "5\n",
      "7\n",
      "11\n",
      "13\n"
     ]
    }
   ],
   "source": [
    "m,n=map(int,input().split())\n",
    "a=set(range(m,n+1))-{1}\n",
    "for i in range(2,int(n**0.5)+1):\n",
    "    a-=set(range(2*i,n+1,i))\n",
    "print(*sorted(a),sep='\\n')"
   ]
  },
  {
   "cell_type": "markdown",
   "id": "bb20ec78",
   "metadata": {},
   "source": [
    "집합에 sort()는 못쓰지만 sorted()는 쓸 수 있음\n",
    "집합에 sorted를 쓰면 list로 반환됨"
   ]
  }
 ],
 "metadata": {
  "kernelspec": {
   "display_name": "Python 3 (ipykernel)",
   "language": "python",
   "name": "python3"
  },
  "language_info": {
   "codemirror_mode": {
    "name": "ipython",
    "version": 3
   },
   "file_extension": ".py",
   "mimetype": "text/x-python",
   "name": "python",
   "nbconvert_exporter": "python",
   "pygments_lexer": "ipython3",
   "version": "3.9.7"
  }
 },
 "nbformat": 4,
 "nbformat_minor": 5
}
