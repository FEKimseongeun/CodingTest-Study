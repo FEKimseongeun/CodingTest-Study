{
 "cells": [
  {
   "cell_type": "code",
   "execution_count": 3,
   "id": "f2c845e4",
   "metadata": {},
   "outputs": [
    {
     "name": "stdout",
     "output_type": "stream",
     "text": [
      "6\n"
     ]
    }
   ],
   "source": [
    "from collections import deque\n",
    "\n",
    "n = int(input())\n",
    "\n",
    "deque = deque([i for i in range(1, n + 1)])"
   ]
  },
  {
   "cell_type": "code",
   "execution_count": 4,
   "id": "1ca3a63f",
   "metadata": {},
   "outputs": [
    {
     "name": "stdout",
     "output_type": "stream",
     "text": [
      "4\n"
     ]
    }
   ],
   "source": [
    "while (len(deque) > 1): # 덱의 길이가 1보다 클 동안 while문\n",
    "    deque.popleft() # 첫번째 - 카드를 버린다 \n",
    "    move = deque.popleft() # 두번째 - 맨앞카드를 맨밑으로 옮긴다\n",
    "    deque.append(move)\n",
    "    \n",
    "print(deque[0]) "
   ]
  }
 ],
 "metadata": {
  "kernelspec": {
   "display_name": "Python 3 (ipykernel)",
   "language": "python",
   "name": "python3"
  },
  "language_info": {
   "codemirror_mode": {
    "name": "ipython",
    "version": 3
   },
   "file_extension": ".py",
   "mimetype": "text/x-python",
   "name": "python",
   "nbconvert_exporter": "python",
   "pygments_lexer": "ipython3",
   "version": "3.8.10"
  }
 },
 "nbformat": 4,
 "nbformat_minor": 5
}
