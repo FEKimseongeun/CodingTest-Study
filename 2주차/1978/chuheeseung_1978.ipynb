{
 "cells": [
  {
   "cell_type": "code",
   "execution_count": 4,
   "id": "06aa8717",
   "metadata": {},
   "outputs": [],
   "source": [
    "import math\n",
    "\n",
    "def is_prime_number(x):\n",
    "    if x == 1:\n",
    "        return False\n",
    "    \n",
    "    for i in range(2, int(math.sqrt(x)) + 1):\n",
    "        if x % i == 0:\n",
    "            return False\n",
    "        \n",
    "    return True"
   ]
  },
  {
   "cell_type": "code",
   "execution_count": 8,
   "id": "f807b710",
   "metadata": {},
   "outputs": [
    {
     "name": "stdout",
     "output_type": "stream",
     "text": [
      "4\n",
      "1 3 5 7\n"
     ]
    }
   ],
   "source": [
    "n = int(input())\n",
    "\n",
    "numbers = list(map(int, input().split()))"
   ]
  },
  {
   "cell_type": "code",
   "execution_count": 14,
   "id": "dd1ef609",
   "metadata": {},
   "outputs": [
    {
     "name": "stdout",
     "output_type": "stream",
     "text": [
      "3\n"
     ]
    }
   ],
   "source": [
    "count = 0\n",
    "\n",
    "for i in range(n):\n",
    "    if is_prime_number(numbers[i]) == True:\n",
    "        count += 1\n",
    "\n",
    "print(count)"
   ]
  }
 ],
 "metadata": {
  "kernelspec": {
   "display_name": "Python 3 (ipykernel)",
   "language": "python",
   "name": "python3"
  },
  "language_info": {
   "codemirror_mode": {
    "name": "ipython",
    "version": 3
   },
   "file_extension": ".py",
   "mimetype": "text/x-python",
   "name": "python",
   "nbconvert_exporter": "python",
   "pygments_lexer": "ipython3",
   "version": "3.8.10"
  }
 },
 "nbformat": 4,
 "nbformat_minor": 5
}
