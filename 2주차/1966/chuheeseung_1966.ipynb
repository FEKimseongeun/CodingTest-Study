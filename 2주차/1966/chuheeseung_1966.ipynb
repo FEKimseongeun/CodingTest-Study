{
 "cells": [
  {
   "cell_type": "code",
   "execution_count": 8,
   "id": "7e20eabb",
   "metadata": {},
   "outputs": [
    {
     "name": "stdout",
     "output_type": "stream",
     "text": [
      "3\n",
      "1 0\n",
      "5\n",
      "1\n",
      "4 2\n",
      "1 2 3 4\n",
      "2\n",
      "6 0\n",
      "1 1 9 1 1 1\n",
      "5\n"
     ]
    }
   ],
   "source": [
    "testCases = int(input()) # 테스트 할 케이스 수\n",
    "\n",
    "for _ in range(testCases): # testCases만큼 for문\n",
    "    n, m = list(map(int, input().split())) # n : 문서 개수, m : 궁금한 문서 위치\n",
    "    imp = list(map(int, input().split())) # imp : 문서의 중요도 리스트\n",
    "    idx = list(range(len(imp))) # idx : 문서마다 고유 인덱스\n",
    "    idx[m] = 'target' # 궁금한 문서 m 위치를 target으로 지정\n",
    "    \n",
    "    order = 0 # 순서를 담을 변수\n",
    "    \n",
    "    while True: # break가 나올 때까지 무한 반복\n",
    "        if imp[0] == max(imp): # 중요도 첫번째값이 제일 크면 order 하나 증가\n",
    "            order += 1\n",
    "            \n",
    "            if idx[0] == 'target': # 인덱스 첫번째 값이 target이면\n",
    "                print(order) # order 출력 후 반복 중단\n",
    "                break\n",
    "            else: # 인덱스 첫번째 값이 target이 아닌 경우\n",
    "                imp.pop(0) # 중요도 제일 처음 값 제거\n",
    "                idx.pop(0) # 인덱스 제일 처음 값 제거\n",
    "        else: # 중요도 첫번째 값이 제일 크지 않은 경우\n",
    "            imp.append(imp.pop(0)) # 중요도 처음 값을 빼고 맨 뒤로 넣는다\n",
    "            idx.append(idx.pop(0)) # 인덱스 처음 값을 빼고 맨 뒤로 넣는다"
   ]
  },
  {
   "cell_type": "code",
   "execution_count": null,
   "id": "5e445ce0",
   "metadata": {},
   "outputs": [],
   "source": []
  }
 ],
 "metadata": {
  "kernelspec": {
   "display_name": "Python 3 (ipykernel)",
   "language": "python",
   "name": "python3"
  },
  "language_info": {
   "codemirror_mode": {
    "name": "ipython",
    "version": 3
   },
   "file_extension": ".py",
   "mimetype": "text/x-python",
   "name": "python",
   "nbconvert_exporter": "python",
   "pygments_lexer": "ipython3",
   "version": "3.8.10"
  }
 },
 "nbformat": 4,
 "nbformat_minor": 5
}
