{
 "cells": [
  {
   "cell_type": "code",
   "execution_count": 1,
   "id": "37ba5b14",
   "metadata": {},
   "outputs": [
    {
     "name": "stdout",
     "output_type": "stream",
     "text": [
      "5\n",
      "4 1 5 2 3\n",
      "5\n",
      "1 3 7 9 5\n",
      "1\n",
      "1\n",
      "0\n",
      "0\n",
      "1\n"
     ]
    }
   ],
   "source": [
    "input()\n",
    "a=set(input().split())\n",
    "input()\n",
    "t=input().split()\n",
    "for i in t:\n",
    "    print(+(i in a)) # int(i in a), (i in a)*1"
   ]
  },
  {
   "cell_type": "markdown",
   "id": "c7ff6570",
   "metadata": {},
   "source": [
    "집합에 원소가 있는지 없는지 검사할때 시간복잡도는 O(1)이다.\n",
    "파이썬은 참 거짓이 True False로 표현되기 때문에\n",
    "예제출력과 같은 출력을 위해서 정수형으로 바꿔줄 필요가 있다."
   ]
  },
  {
   "cell_type": "code",
   "execution_count": 3,
   "id": "c8a0a204",
   "metadata": {},
   "outputs": [
    {
     "name": "stdout",
     "output_type": "stream",
     "text": [
      "5\n",
      "4 1 5 2 3\n",
      "5\n",
      "1 3 7 9 5\n",
      "1\n",
      "1\n",
      "0\n",
      "0\n",
      "1\n"
     ]
    }
   ],
   "source": [
    "def binary_search(array,target,start,end):\n",
    "    while start <= end:\n",
    "        mid = (start+end)//2\n",
    "        if array[mid] == target:\n",
    "            return mid\n",
    "        elif array[mid]>target:\n",
    "            end=mid-1\n",
    "        else:\n",
    "            start=mid+1\n",
    "    return None\n",
    "\n",
    "n=int(input())\n",
    "data=list(map(int,input().split()))\n",
    "data.sort()\n",
    "input()\n",
    "tar=list(map(int,input().split()))\n",
    "\n",
    "for i in tar:\n",
    "    res = binary_search(data,i,0,n-1)\n",
    "    print(+(res!= None))"
   ]
  },
  {
   "cell_type": "markdown",
   "id": "82bab52f",
   "metadata": {},
   "source": [
    "이진탐색의 시간복잡도는 O(nlogn)이다. 따라서 집합을 사용하는것이 더 효율적이다.\n",
    "문제의 의도가 이진탐색 사용인 것 같아서 이진탐색버전도 만들어봤다."
   ]
  }
 ],
 "metadata": {
  "kernelspec": {
   "display_name": "Python 3 (ipykernel)",
   "language": "python",
   "name": "python3"
  },
  "language_info": {
   "codemirror_mode": {
    "name": "ipython",
    "version": 3
   },
   "file_extension": ".py",
   "mimetype": "text/x-python",
   "name": "python",
   "nbconvert_exporter": "python",
   "pygments_lexer": "ipython3",
   "version": "3.9.7"
  }
 },
 "nbformat": 4,
 "nbformat_minor": 5
}
