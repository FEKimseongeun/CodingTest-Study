{
 "cells": [
  {
   "cell_type": "code",
   "execution_count": 1,
   "id": "d1d5b034",
   "metadata": {},
   "outputs": [
    {
     "name": "stdout",
     "output_type": "stream",
     "text": [
      "4 11\n"
     ]
    }
   ],
   "source": [
    "k, n = map(int, input().split())"
   ]
  },
  {
   "cell_type": "code",
   "execution_count": 16,
   "id": "e5786a7f",
   "metadata": {
    "scrolled": true
   },
   "outputs": [
    {
     "name": "stdout",
     "output_type": "stream",
     "text": [
      "802\n",
      "743\n",
      "457\n",
      "539\n"
     ]
    }
   ],
   "source": [
    "lan = list(int(input()) for _ in range(k))"
   ]
  },
  {
   "cell_type": "code",
   "execution_count": 20,
   "id": "965564fe",
   "metadata": {
    "scrolled": true
   },
   "outputs": [
    {
     "name": "stdout",
     "output_type": "stream",
     "text": [
      "5\n",
      "11\n",
      "6\n",
      "8\n",
      "10\n",
      "10\n",
      "10\n",
      "10\n",
      "10\n",
      "200\n"
     ]
    }
   ],
   "source": [
    "start = 1 # 이분탐색 시작점\n",
    "end = max(lan) # 이분탐색 끝점\n",
    "mid = 0 # 이분탐색 중간\n",
    "\n",
    "\n",
    "while start <= end:\n",
    "    mid = (start + end) // 2 # 중간\n",
    "    count = 0 # 이분탐색 돌면서 랜선 개수 셀 변수\n",
    "    \n",
    "    for i in lan:\n",
    "        count += i // mid # 랜선 길이 구해서 count에 추가\n",
    "    \n",
    "    if count >= n: \n",
    "        start = mid + 1; # 개수를 더 늘려야지\n",
    "    else:\n",
    "        end = mid - 1;\n",
    "        \n",
    "print(end)"
   ]
  },
  {
   "cell_type": "code",
   "execution_count": null,
   "id": "7353ffaa",
   "metadata": {},
   "outputs": [],
   "source": []
  }
 ],
 "metadata": {
  "kernelspec": {
   "display_name": "Python 3 (ipykernel)",
   "language": "python",
   "name": "python3"
  },
  "language_info": {
   "codemirror_mode": {
    "name": "ipython",
    "version": 3
   },
   "file_extension": ".py",
   "mimetype": "text/x-python",
   "name": "python",
   "nbconvert_exporter": "python",
   "pygments_lexer": "ipython3",
   "version": "3.8.10"
  }
 },
 "nbformat": 4,
 "nbformat_minor": 5
}
