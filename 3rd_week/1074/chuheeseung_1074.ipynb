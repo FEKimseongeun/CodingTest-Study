{
 "cells": [
  {
   "cell_type": "code",
   "execution_count": 1,
   "id": "a61584f3",
   "metadata": {},
   "outputs": [
    {
     "name": "stdout",
     "output_type": "stream",
     "text": [
      "2 3 1\n",
      "11\n"
     ]
    }
   ],
   "source": [
    "n, r, c = map(int, input().split())\n",
    "answer = 0\n",
    "\n",
    "while n != 0:\n",
    "    n -= 1\n",
    "    \n",
    "    if r < 2**n and c < 2**n: # 2사분면\n",
    "        answer += (2**n) * (2**n) * 0\n",
    "    elif r < 2**n and c >= 2**n: # 1사분면\n",
    "        answer += (2**n) * (2**n) * 1\n",
    "        c -= (2**n)\n",
    "    elif r >= 2**n and c < 2**n: # 3사분면\n",
    "        answer += (2**n) * (2**n) * 2\n",
    "        r -= (2**n)\n",
    "    else: # 4사분면\n",
    "        answer += (2**n) * (2**n) * 3\n",
    "        r -= (2**n)\n",
    "        c -= (2**n)\n",
    "    # r,c에 2**n을 빼는 이유는 사분면을 또 분할해서 사분면으로 나눠야 하기 때문에 위치를 바꿔준 것    \n",
    "    \n",
    "print(answer)"
   ]
  },
  {
   "cell_type": "markdown",
   "id": "ff3717e2",
   "metadata": {},
   "source": [
    "![](./example.png)"
   ]
  },
  {
   "cell_type": "code",
   "execution_count": null,
   "id": "a0dde1a7",
   "metadata": {},
   "outputs": [],
   "source": []
  }
 ],
 "metadata": {
  "kernelspec": {
   "display_name": "Python 3 (ipykernel)",
   "language": "python",
   "name": "python3"
  },
  "language_info": {
   "codemirror_mode": {
    "name": "ipython",
    "version": 3
   },
   "file_extension": ".py",
   "mimetype": "text/x-python",
   "name": "python",
   "nbconvert_exporter": "python",
   "pygments_lexer": "ipython3",
   "version": "3.8.10"
  }
 },
 "nbformat": 4,
 "nbformat_minor": 5
}
