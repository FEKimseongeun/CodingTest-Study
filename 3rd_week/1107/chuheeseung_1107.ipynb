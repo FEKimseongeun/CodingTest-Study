{
 "cells": [
  {
   "cell_type": "code",
   "execution_count": 3,
   "id": "a4399c6b",
   "metadata": {},
   "outputs": [
    {
     "name": "stdout",
     "output_type": "stream",
     "text": [
      "5457\n",
      "3\n",
      "6 7 8\n"
     ]
    }
   ],
   "source": [
    "n = int(input())\n",
    "m = int(input())\n",
    "\n",
    "if m: # 고장난 게 있을 경우에만 입력을 받음\n",
    "    broken = set(input().split())\n",
    "else:\n",
    "    broken = set()"
   ]
  },
  {
   "cell_type": "code",
   "execution_count": 7,
   "id": "fb25f6ec",
   "metadata": {},
   "outputs": [
    {
     "name": "stdout",
     "output_type": "stream",
     "text": [
      "4\n"
     ]
    }
   ],
   "source": [
    "answer = abs(100 - n) # + -만 이용해서 채널 이동하는 경우\n",
    "\n",
    "# 이동하려는 범위는 500,000이지만 채널이 무한대라서 두배를 해줌\n",
    "for i in range(1000001):\n",
    "    for j in str(i):\n",
    "        if j in broken: # 해당 숫자가 번호를 눌러서 고장난 경우에는 멈춤\n",
    "            break\n",
    "        else: # 번호를 눌러서 만들 수 있는 경우\n",
    "            answer = min(answer, len(str(i)) + abs(i - n))\n",
    "            # min(기존답, 번호누른횟수 + 해당번호-타겟차이)\n",
    "            \n",
    "print(answer)"
   ]
  },
  {
   "cell_type": "code",
   "execution_count": null,
   "id": "1e8f69d4",
   "metadata": {},
   "outputs": [],
   "source": []
  }
 ],
 "metadata": {
  "kernelspec": {
   "display_name": "Python 3 (ipykernel)",
   "language": "python",
   "name": "python3"
  },
  "language_info": {
   "codemirror_mode": {
    "name": "ipython",
    "version": 3
   },
   "file_extension": ".py",
   "mimetype": "text/x-python",
   "name": "python",
   "nbconvert_exporter": "python",
   "pygments_lexer": "ipython3",
   "version": "3.8.10"
  }
 },
 "nbformat": 4,
 "nbformat_minor": 5
}
