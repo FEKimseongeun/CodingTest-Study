{
 "cells": [
  {
   "cell_type": "code",
   "execution_count": null,
   "id": "2debb17e",
   "metadata": {},
   "outputs": [],
   "source": [
    "zero = [1, 0, 1] # 각 숫자마다 0,1 을 호출할 횟수를 저장할 리스트\n",
    "one = [0, 1, 1] # 0은 0 1번 호출, 1 0번 호출  # 1은 0 0번 호출, 1 1번 호출 # 2는 0 1번 호출, 1 1번 호출\n",
    "\n",
    "def fibonacci(n):\n",
    "    length = len(zero) # 배열의 길이를 받아옴\n",
    "    if n >= length: # 배열의 길이보다 입력 받은 숫자의 값이 크거나 같으면 반복문 시작\n",
    "        for i in range(length, n + 1):\n",
    "            zero.append(zero[i - 1] + zero[i - 2])\n",
    "            one.append(one[i - 1] + one[i - 2])\n",
    "            \n",
    "    print('{} {}'.format(zero[n], one[n]))\n",
    "    \n",
    "T = int(input())\n",
    "\n",
    "for _ in range(T):\n",
    "    fibonacci(int(input()))"
   ]
  },
  {
   "cell_type": "markdown",
   "id": "12f4dc11",
   "metadata": {},
   "source": [
    "###### fibonacci(n)을 구하기 위해서 fibonacci(0)과 fibonacci(1)을 호출하는 횟수\n",
    "###### = fibonacci(n-1)에서 fibonacci(0)과 fibonacci(1)을 호출하는 횟수 \n",
    "###### + fibonacci(n-2)에서 fibonacci(0)과 fibonacci(1)을 호출하는 횟수"
   ]
  },
  {
   "cell_type": "code",
   "execution_count": null,
   "id": "ff414561",
   "metadata": {},
   "outputs": [],
   "source": []
  }
 ],
 "metadata": {
  "kernelspec": {
   "display_name": "Python 3 (ipykernel)",
   "language": "python",
   "name": "python3"
  },
  "language_info": {
   "codemirror_mode": {
    "name": "ipython",
    "version": 3
   },
   "file_extension": ".py",
   "mimetype": "text/x-python",
   "name": "python",
   "nbconvert_exporter": "python",
   "pygments_lexer": "ipython3",
   "version": "3.8.10"
  }
 },
 "nbformat": 4,
 "nbformat_minor": 5
}
