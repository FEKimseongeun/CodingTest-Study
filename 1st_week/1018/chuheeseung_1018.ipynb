{
 "cells": [
  {
   "cell_type": "code",
   "execution_count": 20,
   "id": "18130847",
   "metadata": {},
   "outputs": [
    {
     "name": "stdout",
     "output_type": "stream",
     "text": [
      "8 8\n",
      "WBWBWBWB\n",
      "BWBWBWBW\n",
      "WBWBWBWB\n",
      "BWBBBWBW\n",
      "WBWBWBWB\n",
      "BWBWBWBW\n",
      "WBWBWBWB\n",
      "BWBWBWBW\n"
     ]
    }
   ],
   "source": [
    "n, m = map(int, input().split())\n",
    "original = [] # 원래 판 리스트\n",
    "count = []  # 바뀐 체스판 개수 저장하기 위한 리스트\n",
    "\n",
    "for _ in range(n):\n",
    "    original.append(input())"
   ]
  },
  {
   "cell_type": "code",
   "execution_count": 22,
   "id": "d0add145",
   "metadata": {},
   "outputs": [
    {
     "name": "stdout",
     "output_type": "stream",
     "text": [
      "1\n"
     ]
    }
   ],
   "source": [
    "for a in range(n - 7): # 전체 체스판 시작점 세로\n",
    "    for b in range(m - 7): # 전체 체스판 시작점 가로\n",
    "        indexW = 0 # 'W'로 시작할 경우 바뀐 체스판 개수 세려고\n",
    "        indexB = 0 # 'B'로 시작할 경우 바뀐 체스판 개수 세려고\n",
    "\n",
    "        for i in range(a, a + 8): # 8*8구한다니까 8칸씩 모두 체크 - 세로\n",
    "            for j in range(b, b + 8): # 가로\n",
    "                if (i + j) % 2 == 0: # 가로 세로 합이 짝수면 시작점 색깔과 같아야함\n",
    "                    if original[i][j] != 'W':\n",
    "                        indexW += 1\n",
    "                    if original[i][j] != 'B':\n",
    "                        indexB += 1\n",
    "                else: # 가로 세로 합이 홀수면 시작점 색깔과 달라야 함\n",
    "                    if original[i][j] != 'B':\n",
    "                        indexW += 1\n",
    "                    if original[i][j] != 'W':\n",
    "                        indexB += 1\n",
    "\n",
    "count.append(min(indexW, indexB))\n",
    "\n",
    "print(min(count))"
   ]
  },
  {
   "cell_type": "code",
   "execution_count": null,
   "id": "e9a08ff0",
   "metadata": {},
   "outputs": [],
   "source": [
    "n, m = map(int, input().split())\n",
    "original = [] # 원래 판 리스트\n",
    "count = []  # 바뀐 체스판 개수 저장하기 위한 리스트\n",
    "\n",
    "for _ in range(n):\n",
    "    original.append(input())\n",
    "    \n",
    "for a in range(n - 7): # 전체 체스판 시작점 세로\n",
    "    for b in range(m - 7): # 전체 체스판 시작점 가로\n",
    "        indexW = 0 # 'W'로 시작할 경우 바뀐 체스판 개수 세려고\n",
    "        indexB = 0 # 'B'로 시작할 경우 바뀐 체스판 개수 세려고\n",
    "\n",
    "        for i in range(a, a + 8): # 8*8구한다니까 8칸씩 모두 체크 - 세로\n",
    "            for j in range(b, b + 8): # 가로\n",
    "                if (i + j) % 2 == 0: # 가로 세로 합이 짝수면 시작점 색깔과 같아야함\n",
    "                    if original[i][j] != 'W':\n",
    "                        indexW += 1\n",
    "                    if original[i][j] != 'B':\n",
    "                        indexB += 1\n",
    "                else: # 가로 세로 합이 홀수면 시작점 색깔과 달라야 함\n",
    "                    if original[i][j] != 'B':\n",
    "                        indexW += 1\n",
    "                    if original[i][j] != 'W':\n",
    "                        indexB += 1\n",
    "\n",
    "        count.append(min(indexW, indexB))\n",
    "\n",
    "print(min(count))"
   ]
  }
 ],
 "metadata": {
  "kernelspec": {
   "display_name": "Python 3 (ipykernel)",
   "language": "python",
   "name": "python3"
  },
  "language_info": {
   "codemirror_mode": {
    "name": "ipython",
    "version": 3
   },
   "file_extension": ".py",
   "mimetype": "text/x-python",
   "name": "python",
   "nbconvert_exporter": "python",
   "pygments_lexer": "ipython3",
   "version": "3.8.10"
  }
 },
 "nbformat": 4,
 "nbformat_minor": 5
}
