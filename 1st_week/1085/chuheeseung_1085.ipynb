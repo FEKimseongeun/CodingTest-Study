{
 "cells": [
  {
   "cell_type": "code",
   "execution_count": 8,
   "id": "9ea2cc07",
   "metadata": {},
   "outputs": [
    {
     "name": "stdout",
     "output_type": "stream",
     "text": [
      "653 375 1000 1000\n"
     ]
    }
   ],
   "source": [
    "x, y, w, h = map(int, input().split())"
   ]
  },
  {
   "cell_type": "code",
   "execution_count": 11,
   "id": "615ed16f",
   "metadata": {},
   "outputs": [
    {
     "name": "stdout",
     "output_type": "stream",
     "text": [
      "347\n"
     ]
    }
   ],
   "source": [
    "garo = w - x\n",
    "sero = h - y\n",
    "\n",
    "minimum = min(garo, sero, x, y)\n",
    "print(minimum)"
   ]
  }
 ],
 "metadata": {
  "kernelspec": {
   "display_name": "Python 3 (ipykernel)",
   "language": "python",
   "name": "python3"
  },
  "language_info": {
   "codemirror_mode": {
    "name": "ipython",
    "version": 3
   },
   "file_extension": ".py",
   "mimetype": "text/x-python",
   "name": "python",
   "nbconvert_exporter": "python",
   "pygments_lexer": "ipython3",
   "version": "3.8.10"
  }
 },
 "nbformat": 4,
 "nbformat_minor": 5
}
